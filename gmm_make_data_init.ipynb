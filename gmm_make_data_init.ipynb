{
 "cells": [
  {
   "cell_type": "code",
   "execution_count": null,
   "metadata": {
    "collapsed": true
   },
   "outputs": [],
   "source": [
    "import matplotlib.pyplot as plt\n",
    "import numpy as np\n",
    "from matplotlib.patches import Ellipse\n",
    "np.random.seed(200)"
   ]
  },
  {
   "cell_type": "code",
   "execution_count": null,
   "metadata": {
    "collapsed": true
   },
   "outputs": [],
   "source": [
    "def plot_ellipses_gmm(means, covariances,ax):\n",
    "    color_list = ['r','g','b','k']\n",
    "    for i,(mean,cov) in enumerate(zip(means,covariances)):\n",
    "        \n",
    "        v1,w1=np.linalg.eigh(cov)\n",
    "        u = w1[0] / np.linalg.norm(w1[0])\n",
    "        angle = np.arctan2(u[1], u[0])\n",
    "        angle = 180 * angle / np.pi  # convert to degrees\n",
    "        v1 *= 3\n",
    "        ell = Ellipse(xy=mean, width=v1[0], height=v1[1], angle=180 + angle,\n",
    "                  edgecolor=color_list[i], lw=4, facecolor='none')\n",
    "        ax.add_artist(ell)\n"
   ]
  },
  {
   "cell_type": "code",
   "execution_count": null,
   "metadata": {
    "collapsed": true
   },
   "outputs": [],
   "source": [
    "def plot_scatter(datas, ax):\n",
    "    color_list=['r','g','b','k']\n",
    "    ax.axis('equal')    \n",
    "    for i,data in enumerate(datas):\n",
    "        ax.scatter(data[:,0],data[:,1], c=color_list[i], marker='o')\n"
   ]
  },
  {
   "cell_type": "code",
   "execution_count": null,
   "metadata": {
    "collapsed": false
   },
   "outputs": [],
   "source": [
    "# Generate true means and covariances\n",
    "means=[]\n",
    "transforms=[]\n",
    "covariances=[]\n",
    "precisions=[]\n",
    "\n",
    "mean=np.array([2.,4.])\n",
    "transform=np.array([[1.,1.],[1.,-1.]])\n",
    "covariance=np.dot(transform.T, transform)\n",
    "precision=np.linalg.inv(covariance)\n",
    "\n",
    "means.append(mean)\n",
    "transforms.append(transform)\n",
    "covariances.append(covariance)\n",
    "precisions.append(precision)\n",
    "                  \n",
    "mean=np.array([-3.,3.])                  \n",
    "transform = np.array([[1.414, 0.],[2., 2.]])\n",
    "covariance=np.dot(transform.T, transform)\n",
    "precision=np.linalg.inv(covariance)\n",
    "\n",
    "means.append(mean)\n",
    "transforms.append(transform)\n",
    "covariances.append(covariance)\n",
    "precisions.append(precision)\n",
    "\n",
    "mean=np.array([1.,-2.])\n",
    "transform=np.array([[1.,1.],[0., 1]])\n",
    "covariance=np.dot(transform.T, transform)\n",
    "precision=np.linalg.inv(covariance)\n",
    "\n",
    "means.append(mean)\n",
    "transforms.append(transform)\n",
    "covariances.append(covariance)\n",
    "precisions.append(precision)\n",
    "\n",
    "# Generate data\n",
    "datas=[]\n",
    "full_data=np.zeros((0,2))\n",
    "for mean,transform in zip(means,transforms):\n",
    "    data=np.random.randn(300,2).dot(transform)+mean\n",
    "    datas.append(data)\n",
    "    full_data=np.concatenate((full_data, data))\n",
    "    \n",
    "# Plot and visualise data using defined function \"Plot_scatter\"\n",
    "fig=plt.figure(figsize=(10,10))\n",
    "ax=plt.gca()\n",
    "ax.axis('equal')\n",
    "plot_scatter(datas, ax)\n",
    "plot_ellipses_gmm(means, covariances, ax)\n",
    "plt.show()    \n",
    "                "
   ]
  },
  {
   "cell_type": "code",
   "execution_count": null,
   "metadata": {
    "collapsed": false
   },
   "outputs": [],
   "source": [
    "# Initialise parameter estimates\n",
    "\n",
    "num_clusters=len(means)\n",
    "\n",
    "\n",
    "means_est=[]\n",
    "covs_est=[]\n",
    "for i in range(num_clusters):\n",
    "    means_est.append(np.random.rand(2)*4)\n",
    "    covs_est.append(np.eye(2))\n",
    "\n",
    "    \n",
    "#visualise initial parameters:\n",
    "fig=plt.figure(figsize=(10,10))\n",
    "ax=plt.gca()\n",
    "ax.axis('equal')\n",
    "plot_scatter([full_data], ax)\n",
    "plot_ellipses_gmm(means_est, covs_est, ax)\n",
    "plt.show()\n"
   ]
  }
 ],
 "metadata": {
  "kernelspec": {
   "display_name": "Python 3",
   "language": "python",
   "name": "python3"
  },
  "language_info": {
   "codemirror_mode": {
    "name": "ipython",
    "version": 3
   },
   "file_extension": ".py",
   "mimetype": "text/x-python",
   "name": "python",
   "nbconvert_exporter": "python",
   "pygments_lexer": "ipython3",
   "version": "3.6.0"
  }
 },
 "nbformat": 4,
 "nbformat_minor": 2
}
